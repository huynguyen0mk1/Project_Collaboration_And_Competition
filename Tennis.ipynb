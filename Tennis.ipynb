{
 "cells": [
  {
   "cell_type": "markdown",
   "metadata": {},
   "source": [
    "# Collaboration and Competition\n",
    "\n",
    "---\n",
    "\n",
    "You are welcome to use this coding environment to train your agent for the project.  Follow the instructions below to get started!\n",
    "\n",
    "### 1. Start the Environment\n",
    "\n",
    "Run the next code cell to install a few packages.  This line will take a few minutes to run!"
   ]
  },
  {
   "cell_type": "code",
   "execution_count": 1,
   "metadata": {},
   "outputs": [],
   "source": [
    "import os\n",
    "# Set the PROTOCOL_BUFFERS_PYTHON_IMPLEMENTATION to python\n",
    "os.environ['PROTOCOL_BUFFERS_PYTHON_IMPLEMENTATION'] = 'python'"
   ]
  },
  {
   "cell_type": "code",
   "execution_count": 2,
   "metadata": {},
   "outputs": [],
   "source": [
    "!pip -q install ."
   ]
  },
  {
   "cell_type": "markdown",
   "metadata": {},
   "source": [
    "The environment is already saved in the Workspace and can be accessed at the file path provided below. "
   ]
  },
  {
   "cell_type": "code",
   "execution_count": 3,
   "metadata": {},
   "outputs": [
    {
     "name": "stderr",
     "output_type": "stream",
     "text": [
      "INFO:unityagents:\n",
      "'Academy' started successfully!\n",
      "Unity Academy name: Academy\n",
      "        Number of Brains: 1\n",
      "        Number of External Brains : 1\n",
      "        Lesson number : 0\n",
      "        Reset Parameters :\n",
      "\t\t\n",
      "Unity brain name: TennisBrain\n",
      "        Number of Visual Observations (per agent): 0\n",
      "        Vector Observation space type: continuous\n",
      "        Vector Observation space size (per agent): 8\n",
      "        Number of stacked Vector Observation: 3\n",
      "        Vector Action space type: continuous\n",
      "        Vector Action space size (per agent): 2\n",
      "        Vector Action descriptions: , \n"
     ]
    }
   ],
   "source": [
    "from unityagents import UnityEnvironment\n",
    "import numpy as np\n",
    "\n",
    "env = UnityEnvironment(file_name=\"./data/Tennis_Windows_x86_64/Tennis.exe\")"
   ]
  },
  {
   "cell_type": "markdown",
   "metadata": {},
   "source": [
    "Environments contain **_brains_** which are responsible for deciding the actions of their associated agents. Here we check for the first brain available, and set it as the default brain we will be controlling from Python."
   ]
  },
  {
   "cell_type": "code",
   "execution_count": 4,
   "metadata": {},
   "outputs": [],
   "source": [
    "# get the default brain\n",
    "brain_name = env.brain_names[0]\n",
    "brain = env.brains[brain_name]"
   ]
  },
  {
   "cell_type": "markdown",
   "metadata": {},
   "source": [
    "### 2. Examine the State and Action Spaces\n",
    "\n",
    "Run the code cell below to print some information about the environment."
   ]
  },
  {
   "cell_type": "code",
   "execution_count": 5,
   "metadata": {},
   "outputs": [
    {
     "name": "stdout",
     "output_type": "stream",
     "text": [
      "Number of agents: 2\n",
      "Size of each action: 2\n",
      "There are 2 agents. Each observes a state with length: 24\n",
      "The state for the first agent looks like: [ 0.          0.          0.          0.          0.          0.\n",
      "  0.          0.          0.          0.          0.          0.\n",
      "  0.          0.          0.          0.         -6.65278625 -1.5\n",
      " -0.          0.          6.83172083  6.         -0.          0.        ]\n"
     ]
    }
   ],
   "source": [
    "# reset the environment\n",
    "env_info = env.reset(train_mode=True)[brain_name]\n",
    "\n",
    "# number of agents \n",
    "num_agents = len(env_info.agents)\n",
    "print('Number of agents:', num_agents)\n",
    "\n",
    "# size of each action\n",
    "action_size = brain.vector_action_space_size\n",
    "print('Size of each action:', action_size)\n",
    "\n",
    "# examine the state space \n",
    "data_states = env_info.vector_observations\n",
    "state_size = data_states.shape[1]\n",
    "print('There are {} agents. Each observes a state with length: {}'.format(data_states.shape[0], state_size))\n",
    "print('The state for the first agent looks like:', data_states[0])"
   ]
  },
  {
   "cell_type": "markdown",
   "metadata": {},
   "source": [
    "### 3. Take Random Actions in the Environment\n",
    "\n",
    "In the next code cell, you will learn how to use the Python API to control the agent and receive feedback from the environment.\n",
    "\n",
    "Note that **in this coding environment, you will not be able to watch the agents while they are training**, and you should set `train_mode=True` to restart the environment."
   ]
  },
  {
   "cell_type": "code",
   "execution_count": 6,
   "metadata": {},
   "outputs": [
    {
     "name": "stdout",
     "output_type": "stream",
     "text": [
      "Total score (averaged over agents) this episode: -0.004999999888241291\n",
      "Total score (averaged over agents) this episode: 0.04500000085681677\n",
      "Total score (averaged over agents) this episode: -0.004999999888241291\n",
      "Total score (averaged over agents) this episode: -0.004999999888241291\n",
      "Total score (averaged over agents) this episode: 0.04500000085681677\n"
     ]
    }
   ],
   "source": [
    "for i in range(5):                                         # play game for 5 episodes\n",
    "    env_info = env.reset(train_mode=False)[brain_name]     # reset the environment    \n",
    "    data_states = env_info.vector_observations                  # get the current state (for each agent)\n",
    "    data_scores = np.zeros(num_agents)                          # initialize the score (for each agent)\n",
    "    while True:\n",
    "        data_actions = np.random.randn(num_agents, action_size) # select an action (for each agent)\n",
    "        data_actions = np.clip(data_actions, -1, 1)                  # all actions between -1 and 1\n",
    "        env_info = env.step(data_actions)[brain_name]           # send all actions to tne environment\n",
    "        data_next_states = env_info.vector_observations         # get next state (for each agent)\n",
    "        data_rewards = env_info.rewards                         # get reward (for each agent)\n",
    "        data_dones = env_info.local_done                        # see if episode finished\n",
    "        data_scores += env_info.rewards                         # update the score (for each agent)\n",
    "        data_states = data_next_states                               # roll over states to next time step\n",
    "        if np.any(data_dones):                                  # exit loop if episode finished\n",
    "            break\n",
    "    print('Total score (averaged over agents) this episode: {}'.format(np.mean(data_scores)))"
   ]
  },
  {
   "cell_type": "markdown",
   "metadata": {},
   "source": [
    "When finished, you can close the environment."
   ]
  },
  {
   "cell_type": "code",
   "execution_count": 7,
   "metadata": {},
   "outputs": [],
   "source": [
    "#env.close()"
   ]
  },
  {
   "cell_type": "markdown",
   "metadata": {},
   "source": [
    "### 4. It's Your Turn!\n",
    "\n",
    "Now it's your turn to train your own agent to solve the environment!  A few **important notes**:\n",
    "- When training the environment, set `train_mode=True`, so that the line for resetting the environment looks like the following:\n",
    "```python\n",
    "env_info = env.reset(train_mode=True)[brain_name]\n",
    "```\n",
    "- To structure your work, you're welcome to work directly in this Jupyter notebook, or you might like to start over with a new file!  You can see the list of files in the workspace by clicking on **_Jupyter_** in the top left corner of the notebook.\n",
    "- In this coding environment, you will not be able to watch the agents while they are training.  However, **_after training the agents_**, you can download the saved model weights to watch the agents on your own machine! "
   ]
  },
  {
   "cell_type": "code",
   "execution_count": 8,
   "metadata": {},
   "outputs": [],
   "source": [
    "import random\n",
    "import torch\n",
    "from collections import deque\n",
    "from object_agent_tennis import ObjectAgent\n",
    "import matplotlib.pyplot as plt\n",
    "import pandas as pd\n",
    "%matplotlib inline"
   ]
  },
  {
   "cell_type": "code",
   "execution_count": 9,
   "metadata": {},
   "outputs": [],
   "source": [
    "agent = ObjectAgent(data_state_size=24, data_action_size=2, data_random_seed=1)"
   ]
  },
  {
   "cell_type": "code",
   "execution_count": 10,
   "metadata": {},
   "outputs": [],
   "source": [
    "def plot_scores(data_scores, data_rolling_window=10, data_save_fig=False):\n",
    "    fig = plt.figure()\n",
    "    ax = fig.add_subplot(111)\n",
    "    plt.plot(np.arange(len(data_scores)), data_scores)\n",
    "    plt.xlabel('Episode')\n",
    "    plt.ylabel('Score')\n",
    "    plt.title(f'scores')\n",
    "    data_rolling_mean = pd.Series(data_scores).rolling(data_rolling_window).mean()\n",
    "    plt.plot(data_rolling_mean)\n",
    "\n",
    "    if data_save_fig:\n",
    "        plt.savefig(f'figures_scores.png', bbox_inches='tight', pad_inches=0)"
   ]
  },
  {
   "cell_type": "code",
   "execution_count": 11,
   "metadata": {},
   "outputs": [],
   "source": [
    "def ddpg(data_n_episodes=10000, data_max_t=10000, data_print_every=100):\n",
    "    data_scores = []\n",
    "    data_beta = 1.0\n",
    "    data_scores_deque = deque(maxlen=data_print_every)\n",
    "    for i_episode in range(1, data_n_episodes+1):\n",
    "        data_e_scores = np.zeros(2)\n",
    "        env_info = env.reset(train_mode=True)[brain_name]\n",
    "        data_states = env_info.vector_observations\n",
    "        agent.reset()\n",
    "        for t in range(data_max_t):\n",
    "            if i_episode < 100:\n",
    "                data_actions = np.random.randn(2, 2)\n",
    "            else:\n",
    "                data_actions = agent.act(data_states, data_noise_factor=data_beta)\n",
    "            actions_other_player = np.flip(data_actions, 0)\n",
    "            env_info = env.step(data_actions)[brain_name]\n",
    "            data_rewards = env_info.rewards \n",
    "            data_e_scores += data_rewards\n",
    "            data_next_states = env_info.vector_observations\n",
    "            data_next_states_other_player = np.flip(data_next_states, 0)\n",
    "            data_dones = env_info.local_done\n",
    "            agent.step(data_states, data_actions, actions_other_player, data_rewards, data_next_states, data_next_states_other_player, data_dones)\n",
    "            data_states = data_next_states\n",
    "            if np.any(data_dones):\n",
    "                break\n",
    "        data_beta = max(0.999 * data_beta, 0.01)\n",
    "        data_max_score = np.max(data_e_scores)\n",
    "        data_scores.append(data_max_score)\n",
    "        data_scores_deque.append(data_max_score)\n",
    "        print('\\rEpisode {:d}\\tmax score: {:.2f}\\taverage maximum score over the last 10 episodes: {:.2f}'\n",
    "              .format(i_episode, data_scores_deque[-1], np.mean(list(data_scores_deque)[-10:])), end=\"\")\n",
    "        if i_episode > 100 and np.mean(data_scores_deque) > 0.5:\n",
    "            torch.save(agent.data_actor_local.state_dict(), 'checkpoint_actor.pth')\n",
    "            torch.save(agent.data_critic_local.state_dict(), 'checkpoint_critic.pth')\n",
    "            print('\\nEnvironment solved in {:d} episodes!\\tAverage Score: {:.2f}'.format(i_episode-100, np.mean(data_scores_deque)))\n",
    "            break\n",
    "        if i_episode % data_print_every == 0:\n",
    "            print('\\rEpisode {}\\tAverage Score: {:.2f}'.format(i_episode, np.mean(data_scores_deque)))\n",
    "            \n",
    "    return data_scores"
   ]
  },
  {
   "cell_type": "code",
   "execution_count": 12,
   "metadata": {},
   "outputs": [
    {
     "name": "stdout",
     "output_type": "stream",
     "text": [
      "Episode 100\tAverage Score: 0.02rage maximum score over the last 10 episodes: 0.03\n",
      "Episode 200\tAverage Score: 0.00rage maximum score over the last 10 episodes: 0.00\n",
      "Episode 300\tAverage Score: 0.00rage maximum score over the last 10 episodes: 0.00\n",
      "Episode 400\tAverage Score: 0.00rage maximum score over the last 10 episodes: 0.00\n",
      "Episode 500\tAverage Score: 0.04rage maximum score over the last 10 episodes: 0.05\n",
      "Episode 600\tAverage Score: 0.05rage maximum score over the last 10 episodes: 0.09\n",
      "Episode 700\tAverage Score: 0.09rage maximum score over the last 10 episodes: 0.10\n",
      "Episode 800\tAverage Score: 0.10rage maximum score over the last 10 episodes: 0.10\n",
      "Episode 900\tAverage Score: 0.10rage maximum score over the last 10 episodes: 0.10\n",
      "Episode 1000\tAverage Score: 0.10rage maximum score over the last 10 episodes: 0.11\n",
      "Episode 1100\tAverage Score: 0.11rage maximum score over the last 10 episodes: 0.10\n",
      "Episode 1200\tAverage Score: 0.10rage maximum score over the last 10 episodes: 0.09\n",
      "Episode 1300\tAverage Score: 0.44rage maximum score over the last 10 episodes: 1.10\n",
      "Episode 1319\tmax score: 2.60\taverage maximum score over the last 10 episodes: 0.91\n",
      "Environment solved in 1219 episodes!\tAverage Score: 0.52\n"
     ]
    }
   ],
   "source": [
    "data_scores = ddpg()"
   ]
  },
  {
   "cell_type": "code",
   "execution_count": 13,
   "metadata": {},
   "outputs": [
    {
     "data": {
      "image/png": "[encoded data removed]",
      "text/plain": [
       "<Figure size 640x480 with 1 Axes>"
      ]
     },
     "metadata": {},
     "output_type": "display_data"
    }
   ],
   "source": [
    "fig = plt.figure()\n",
    "ax = fig.add_subplot(111)\n",
    "plt.plot(np.arange(1, len(data_scores)+1), data_scores)\n",
    "plt.xlabel('Episode')\n",
    "plt.ylabel('Score')\n",
    "plt.show()"
   ]
  },
  {
   "cell_type": "code",
   "execution_count": 14,
   "metadata": {},
   "outputs": [
    {
     "data": {
      "image/png": "[encoded data removed]",
      "text/plain": [
       "<Figure size 640x480 with 1 Axes>"
      ]
     },
     "metadata": {},
     "output_type": "display_data"
    }
   ],
   "source": [
    "plot_scores(data_scores)"
   ]
  }
 ],
 "metadata": {
  "kernelspec": {
   "display_name": "Python 3",
   "language": "python",
   "name": "python3"
  },
  "language_info": {
   "codemirror_mode": {
    "name": "ipython",
    "version": 3
   },
   "file_extension": ".py",
   "mimetype": "text/x-python",
   "name": "python",
   "nbconvert_exporter": "python",
   "pygments_lexer": "ipython3",
   "version": "3.10.5"
  }
 },
 "nbformat": 4,
 "nbformat_minor": 2
}
