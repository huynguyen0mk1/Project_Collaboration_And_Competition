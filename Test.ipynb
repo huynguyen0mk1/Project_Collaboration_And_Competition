{
 "cells": [
  {
   "cell_type": "code",
   "execution_count": null,
   "metadata": {},
   "outputs": [],
   "source": [
    "import os\n",
    "# Set the PROTOCOL_BUFFERS_PYTHON_IMPLEMENTATION to python\n",
    "os.environ['PROTOCOL_BUFFERS_PYTHON_IMPLEMENTATION'] = 'python'"
   ]
  },
  {
   "cell_type": "code",
   "execution_count": null,
   "metadata": {},
   "outputs": [],
   "source": [
    "!pip -q install ."
   ]
  },
  {
   "cell_type": "code",
   "execution_count": null,
   "metadata": {},
   "outputs": [],
   "source": [
    "import random\n",
    "import torch\n",
    "from collections import deque\n",
    "from object_agent_tennis import ObjectAgent\n",
    "import matplotlib.pyplot as plt\n",
    "import pandas as pd\n",
    "%matplotlib inline\n",
    "from unityagents import UnityEnvironment\n",
    "import numpy as np\n",
    "\n",
    "env = UnityEnvironment(file_name=\"./data/Tennis_Windows_x86_64/Tennis.exe\")"
   ]
  },
  {
   "cell_type": "code",
   "execution_count": null,
   "metadata": {},
   "outputs": [],
   "source": [
    "# get the default brain\n",
    "brain_name = env.brain_names[0]\n",
    "brain = env.brains[brain_name]\n",
    "\n",
    "# reset the environment\n",
    "env_info = env.reset(train_mode=True)[brain_name]\n",
    "\n",
    "# number of agents \n",
    "num_agents = len(env_info.agents)\n",
    "print('Number of agents:', num_agents)\n",
    "\n",
    "# size of each action\n",
    "action_size = brain.vector_action_space_size\n",
    "print('Size of each action:', action_size)\n",
    "\n",
    "# examine the state space \n",
    "data_states = env_info.vector_observations\n",
    "state_size = data_states.shape[1]\n",
    "print('There are {} agents. Each observes a state with length: {}'.format(data_states.shape[0], state_size))\n",
    "print('The state for the first agent looks like:', data_states[0])"
   ]
  },
  {
   "cell_type": "code",
   "execution_count": null,
   "metadata": {},
   "outputs": [],
   "source": [
    "agent = ObjectAgent(data_state_size=24, data_action_size=2, data_random_seed=1)"
   ]
  },
  {
   "cell_type": "code",
   "execution_count": null,
   "metadata": {},
   "outputs": [],
   "source": [
    "agent.data_critic_local.load_state_dict(torch.load('checkpoint_critic.pth'))\n",
    "agent.data_actor_local.load_state_dict(torch.load('checkpoint_actor.pth'))"
   ]
  },
  {
   "cell_type": "code",
   "execution_count": null,
   "metadata": {},
   "outputs": [],
   "source": [
    "def test_ddpg(env, data_agent, data_num_agents, data_max_t=1000):\n",
    "    env_info = env.reset(train_mode=False)[brain_name]\n",
    "    data_states = env_info.vector_observations  \n",
    "    data_beta = 1.0\n",
    "    data_score = np.zeros(data_num_agents)\n",
    "    for t in range(data_max_t):\n",
    "        data_actions = data_agent.act(data_states, data_noise_factor=data_beta)\n",
    "        actions_other_player = np.flip(data_actions, 0)\n",
    "        env_info = env.step(data_actions)[brain_name]   \n",
    "        data_next_states = env_info.vector_observations         # get next state (for each agent)\n",
    "        data_next_states_other_player = np.flip(data_next_states, 0)\n",
    "        data_rewards = env_info.rewards                         # get reward (for each agent)\n",
    "        data_dones = env_info.local_done                        # see if episode finished\n",
    "\n",
    "        data_agent.step(data_states, data_actions, actions_other_player, data_rewards, data_next_states, data_next_states_other_player, data_dones)\n",
    "        data_states = data_next_states\n",
    "        data_score += data_rewards\n",
    "        if any(data_dones):\n",
    "            break\n",
    "    print(\"Score of this episode is: %.2f\" % np.mean(data_score))  "
   ]
  },
  {
   "cell_type": "code",
   "execution_count": null,
   "metadata": {},
   "outputs": [],
   "source": [
    "test_ddpg(env, agent, num_agents)"
   ]
  },
  {
   "cell_type": "code",
   "execution_count": null,
   "metadata": {},
   "outputs": [],
   "source": [
    "env.close()"
   ]
  }
 ],
 "metadata": {
  "language_info": {
   "name": "python"
  }
 },
 "nbformat": 4,
 "nbformat_minor": 2
}
